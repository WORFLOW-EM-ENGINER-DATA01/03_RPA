{
 "cells": [
  {
   "cell_type": "code",
   "execution_count": 2,
   "id": "74dd0aa8-033c-49fe-9bd3-2194554b398d",
   "metadata": {},
   "outputs": [
    {
     "name": "stdout",
     "output_type": "stream",
     "text": [
      "Dates extraites du fichier: ['2024-09-30', '2024-10-15', '2024-10-17', '2024-10-10', '2024-09-25', '2024-11-15', '2024-10-05', '2024-07-01', '2024-07-15', '2024-06-30']\n"
     ]
    }
   ],
   "source": [
    "import re\n",
    "\n",
    "def extract_dates_from_file(file_path):\n",
    "    dates = []\n",
    "    with open(file_path, 'r') as file:\n",
    "        text = file.read()\n",
    "        date_pattern = r'\\b\\d{4}-\\d{2}-\\d{2}\\b'\n",
    "        dates = re.findall(date_pattern, text)\n",
    "    return dates\n",
    "\n",
    "file_path = './Data/demande.txt'\n",
    "print(\"Dates extraites du fichier:\", extract_dates_from_file(file_path))"
   ]
  },
  {
   "cell_type": "code",
   "execution_count": null,
   "id": "2f57e3a3-5900-4786-9fa4-51d69a249a33",
   "metadata": {},
   "outputs": [],
   "source": []
  }
 ],
 "metadata": {
  "kernelspec": {
   "display_name": "Python 3 (ipykernel)",
   "language": "python",
   "name": "python3"
  },
  "language_info": {
   "codemirror_mode": {
    "name": "ipython",
    "version": 3
   },
   "file_extension": ".py",
   "mimetype": "text/x-python",
   "name": "python",
   "nbconvert_exporter": "python",
   "pygments_lexer": "ipython3",
   "version": "3.11.9"
  }
 },
 "nbformat": 4,
 "nbformat_minor": 5
}
