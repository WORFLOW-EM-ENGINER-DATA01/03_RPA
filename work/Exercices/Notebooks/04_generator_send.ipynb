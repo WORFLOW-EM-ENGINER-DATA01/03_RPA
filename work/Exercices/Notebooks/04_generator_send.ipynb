{
 "cells": [
  {
   "cell_type": "code",
   "execution_count": 8,
   "id": "2e3ea2cd-9ec9-4eac-b081-003813213de3",
   "metadata": {},
   "outputs": [
    {
     "name": "stdout",
     "output_type": "stream",
     "text": [
      "Generator started\n",
      "1\n",
      "Received value: A\n",
      "2\n",
      "Received value: B\n"
     ]
    },
    {
     "ename": "StopIteration",
     "evalue": "",
     "output_type": "error",
     "traceback": [
      "\u001b[0;31m---------------------------------------------------------------------------\u001b[0m",
      "\u001b[0;31mStopIteration\u001b[0m                             Traceback (most recent call last)",
      "Cell \u001b[0;32mIn[8], line 11\u001b[0m\n\u001b[1;32m      9\u001b[0m \u001b[38;5;28mprint\u001b[39m(\u001b[38;5;28mnext\u001b[39m(gen))       \u001b[38;5;66;03m# Démarre le générateur, produit 1\u001b[39;00m\n\u001b[1;32m     10\u001b[0m \u001b[38;5;28mprint\u001b[39m(gen\u001b[38;5;241m.\u001b[39msend(\u001b[38;5;124m\"\u001b[39m\u001b[38;5;124mA\u001b[39m\u001b[38;5;124m\"\u001b[39m))  \u001b[38;5;66;03m# Envoie \"A\" au générateur, produit 2\u001b[39;00m\n\u001b[0;32m---> 11\u001b[0m \u001b[38;5;28mprint\u001b[39m(\u001b[43mgen\u001b[49m\u001b[38;5;241;43m.\u001b[39;49m\u001b[43msend\u001b[49m\u001b[43m(\u001b[49m\u001b[38;5;124;43m\"\u001b[39;49m\u001b[38;5;124;43mB\u001b[39;49m\u001b[38;5;124;43m\"\u001b[39;49m\u001b[43m)\u001b[49m)\n",
      "\u001b[0;31mStopIteration\u001b[0m: "
     ]
    }
   ],
   "source": [
    "def generator_with_send():\n",
    "    print(\"Generator started\")\n",
    "    value = yield 1\n",
    "    print(f\"Received value: {value}\")\n",
    "    value = yield 2\n",
    "    print(f\"Received value: {value}\")\n",
    "\n",
    "gen = generator_with_send()\n",
    "print(next(gen))       # Démarre le générateur, produit 1\n",
    "print(gen.send(\"A\"))  # Envoie \"A\" au générateur, produit 2\n",
    "print(gen.send(\"B\"))\n"
   ]
  },
  {
   "cell_type": "code",
   "execution_count": null,
   "id": "57afc271-c4ef-41f0-8afd-bede1da46c6e",
   "metadata": {},
   "outputs": [],
   "source": []
  }
 ],
 "metadata": {
  "kernelspec": {
   "display_name": "Python 3 (ipykernel)",
   "language": "python",
   "name": "python3"
  },
  "language_info": {
   "codemirror_mode": {
    "name": "ipython",
    "version": 3
   },
   "file_extension": ".py",
   "mimetype": "text/x-python",
   "name": "python",
   "nbconvert_exporter": "python",
   "pygments_lexer": "ipython3",
   "version": "3.11.9"
  }
 },
 "nbformat": 4,
 "nbformat_minor": 5
}
