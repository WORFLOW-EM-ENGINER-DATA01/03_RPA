{
 "cells": [
  {
   "cell_type": "code",
   "execution_count": 1,
   "id": "a17f8bf2-0977-4418-acc4-bafc4718d0bd",
   "metadata": {},
   "outputs": [],
   "source": [
    "import re"
   ]
  },
  {
   "cell_type": "code",
   "execution_count": 4,
   "id": "0feca44f-2eb0-4736-80b0-14eee168f323",
   "metadata": {},
   "outputs": [],
   "source": [
    "def extract_dates_form_file(file):\n",
    "    dates = []\n",
    "    with open(file, 'r') as f:\n",
    "        text = f.read()\n",
    "        pattern = r'\\b\\d{4}-\\d{2}-\\d{2}\\b'\n",
    "        dates = re.findall(pattern, text)\n",
    "        \n",
    "    return dates"
   ]
  },
  {
   "cell_type": "code",
   "execution_count": 5,
   "id": "256ea34e-06d7-47fb-93df-fe9c20f45ae1",
   "metadata": {},
   "outputs": [
    {
     "name": "stdout",
     "output_type": "stream",
     "text": [
      "['2024-09-30', '2024-10-15', '2024-10-17', '2024-10-10', '2024-09-25', '2024-11-15', '2024-10-05', '2024-07-01', '2024-07-15', '2024-06-30']\n"
     ]
    }
   ],
   "source": [
    "file = '../Data/demande.txt'\n",
    "\n",
    "print( extract_dates_form_file(file) )"
   ]
  },
  {
   "cell_type": "code",
   "execution_count": null,
   "id": "f437c40b-d9bd-4305-b307-bd13dc03c295",
   "metadata": {},
   "outputs": [],
   "source": []
  }
 ],
 "metadata": {
  "kernelspec": {
   "display_name": "Python 3 (ipykernel)",
   "language": "python",
   "name": "python3"
  },
  "language_info": {
   "codemirror_mode": {
    "name": "ipython",
    "version": 3
   },
   "file_extension": ".py",
   "mimetype": "text/x-python",
   "name": "python",
   "nbconvert_exporter": "python",
   "pygments_lexer": "ipython3",
   "version": "3.11.9"
  }
 },
 "nbformat": 4,
 "nbformat_minor": 5
}
