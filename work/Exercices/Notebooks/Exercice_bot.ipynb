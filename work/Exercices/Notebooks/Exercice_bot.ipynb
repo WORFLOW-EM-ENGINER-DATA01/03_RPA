{
 "cells": [
  {
   "cell_type": "code",
   "execution_count": 1,
   "id": "0dbbd6c4-fe7a-45eb-9439-a09a19fba8ca",
   "metadata": {},
   "outputs": [],
   "source": [
    "import random"
   ]
  },
  {
   "cell_type": "code",
   "execution_count": 9,
   "id": "b87fccdb-39e0-4d85-b561-afb9b0452772",
   "metadata": {},
   "outputs": [],
   "source": [
    "\"\"\"\n",
    "Code à exécuter dans un bash \n",
    "\"\"\"\n",
    "\n",
    "class Bot:\n",
    "    def __init__(self):\n",
    "        self.commands = {\n",
    "            'hello' : self.say_hello,\n",
    "            'roll' : self.roll_dice,\n",
    "            'quit' : self.quit_bot\n",
    "        }\n",
    "\n",
    "    def run(self):\n",
    "        print('Bot start')\n",
    "        while True:\n",
    "            command = input('Command: ').lower()\n",
    "            if command in self.commands:\n",
    "                self.commands[command]()\n",
    "            else:\n",
    "                print('la commande n\\'existe pas')\n",
    "\n",
    "    def say_hello(self):\n",
    "        print('Bonjour !, Je suis un bot')\n",
    "\n",
    "    def roll_dice(self):\n",
    "        print(f\"Result dice : {random.randint(1, 6)}\")\n",
    "\n",
    "    def quit_bot(self):\n",
    "        print('bie')\n",
    "        exit()"
   ]
  },
  {
   "cell_type": "code",
   "execution_count": null,
   "id": "6238971d-9370-4e5a-862f-a6cdbbca7240",
   "metadata": {},
   "outputs": [
    {
     "name": "stdout",
     "output_type": "stream",
     "text": [
      "Bot start\n"
     ]
    },
    {
     "name": "stdin",
     "output_type": "stream",
     "text": [
      "Command:  roll\n"
     ]
    },
    {
     "name": "stdout",
     "output_type": "stream",
     "text": [
      "Result dice : 1\n"
     ]
    },
    {
     "name": "stdin",
     "output_type": "stream",
     "text": [
      "Command:  rool\n"
     ]
    },
    {
     "name": "stdout",
     "output_type": "stream",
     "text": [
      "la commande n'existe pas\n"
     ]
    },
    {
     "name": "stdin",
     "output_type": "stream",
     "text": [
      "Command:  roll\n"
     ]
    },
    {
     "name": "stdout",
     "output_type": "stream",
     "text": [
      "Result dice : 2\n"
     ]
    },
    {
     "name": "stdin",
     "output_type": "stream",
     "text": [
      "Command:  hello\n"
     ]
    },
    {
     "name": "stdout",
     "output_type": "stream",
     "text": [
      "Bonjour !, Je suis un bot\n"
     ]
    },
    {
     "name": "stdin",
     "output_type": "stream",
     "text": [
      "Command:  quit\n"
     ]
    },
    {
     "name": "stdout",
     "output_type": "stream",
     "text": [
      "bie\n"
     ]
    },
    {
     "name": "stdin",
     "output_type": "stream",
     "text": [
      "Command:  roll\n"
     ]
    },
    {
     "name": "stdout",
     "output_type": "stream",
     "text": [
      "Result dice : 5\n"
     ]
    },
    {
     "name": "stdin",
     "output_type": "stream",
     "text": [
      "Command:  quit\n"
     ]
    },
    {
     "name": "stdout",
     "output_type": "stream",
     "text": [
      "bie\n"
     ]
    }
   ],
   "source": [
    "Bot().run()"
   ]
  },
  {
   "cell_type": "code",
   "execution_count": null,
   "id": "280e03e2-ea99-4f04-962c-702e747df522",
   "metadata": {},
   "outputs": [],
   "source": []
  }
 ],
 "metadata": {
  "kernelspec": {
   "display_name": "Python 3 (ipykernel)",
   "language": "python",
   "name": "python3"
  },
  "language_info": {
   "codemirror_mode": {
    "name": "ipython",
    "version": 3
   },
   "file_extension": ".py",
   "mimetype": "text/x-python",
   "name": "python",
   "nbconvert_exporter": "python",
   "pygments_lexer": "ipython3",
   "version": "3.11.9"
  }
 },
 "nbformat": 4,
 "nbformat_minor": 5
}
