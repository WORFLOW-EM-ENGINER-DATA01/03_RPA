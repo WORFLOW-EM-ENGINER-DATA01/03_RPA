{
 "cells": [
  {
   "cell_type": "code",
   "execution_count": 5,
   "id": "8992ba04-11bb-4174-9ad1-1cc71e935b18",
   "metadata": {},
   "outputs": [
    {
     "name": "stdout",
     "output_type": "stream",
     "text": [
      "Les données des factures ont été enregistrées dans factures.csv\n"
     ]
    }
   ],
   "source": [
    "import re\n",
    "from pypdf import PdfReader\n",
    "import pandas as pd\n",
    "\n",
    "def extract_text_from_pdf(pdf_path):\n",
    "    with open(pdf_path, 'rb') as file:\n",
    "        reader = PdfReader(file)\n",
    "        text = \"\"\n",
    "        for page_num in range(reader.get_num_pages()):\n",
    "            page = reader.get_page(page_num)\n",
    "            text += page.extract_text()\n",
    "    return text\n",
    "\n",
    "def parse_facture(text):\n",
    "    numero_pattern = r\"Facture\\s*n°(\\d+)\"\n",
    "    date_pattern = r\"Date\\s*:\\s*(\\d{2}/\\d{2}/\\d{4})\"\n",
    "    montant_ht_pattern = r\"Montant\\s*Total\\s*HT\\s*:\\s*(\\d+\\.\\d{2})\"\n",
    "    montant_ttc_pattern = r\"Montant\\s*Total\\s*TTC\\s*:\\s*(\\d+\\.\\d{2})\"\n",
    "    \n",
    "    numero = re.search(numero_pattern, text).group(1)\n",
    "    date = re.search(date_pattern, text).group(1)\n",
    "    montant_ht = float(re.search(montant_ht_pattern, text).group(1))\n",
    "    montant_ttc = float(re.search(montant_ttc_pattern, text).group(1))\n",
    "    \n",
    "    return {\n",
    "        \"numero\": numero,\n",
    "        \"date\": date,\n",
    "        \"montant_ht\": montant_ht,\n",
    "        \"montant_ttc\": montant_ttc\n",
    "    }\n",
    "\n",
    "def save_to_csv(data, csv_path):\n",
    "    df = pd.DataFrame(data)\n",
    "    df.to_csv(csv_path, index=False)\n",
    "\n",
    "# Exemple d'utilisation\n",
    "pdf_path = \"../Data/Facture_001.pdf\"\n",
    "csv_path = \"factures.csv\"\n",
    "\n",
    "text = extract_text_from_pdf(pdf_path)\n",
    "facture_data = [parse_facture(text)]\n",
    "save_to_csv(facture_data, csv_path)\n",
    "\n",
    "print(f\"Les données des factures ont été enregistrées dans {csv_path}\")\n"
   ]
  },
  {
   "cell_type": "code",
   "execution_count": null,
   "id": "37b85e46-71dc-4fd6-9fab-117f4a998b20",
   "metadata": {},
   "outputs": [],
   "source": []
  }
 ],
 "metadata": {
  "kernelspec": {
   "display_name": "Python 3 (ipykernel)",
   "language": "python",
   "name": "python3"
  },
  "language_info": {
   "codemirror_mode": {
    "name": "ipython",
    "version": 3
   },
   "file_extension": ".py",
   "mimetype": "text/x-python",
   "name": "python",
   "nbconvert_exporter": "python",
   "pygments_lexer": "ipython3",
   "version": "3.11.9"
  }
 },
 "nbformat": 4,
 "nbformat_minor": 5
}
