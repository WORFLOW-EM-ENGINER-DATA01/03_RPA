{
 "cells": [
  {
   "cell_type": "code",
   "execution_count": 5,
   "id": "00c5bee3-ca46-4f10-9cad-cec7fcd8b1cc",
   "metadata": {},
   "outputs": [],
   "source": [
    "import csv\n",
    "from typing import  TextIO, Generator, Dict, Union"
   ]
  },
  {
   "cell_type": "code",
   "execution_count": 6,
   "id": "2443dfc7-9a9f-4136-96c5-8e2311cdd1d3",
   "metadata": {},
   "outputs": [],
   "source": [
    "# Classes utiles pour le projet\n",
    "\n",
    "# Compte le nombre d'occurences\n",
    "class Counter:\n",
    "    def __init__(self, count: int = 0)->None:\n",
    "        self.count = count \n",
    "\n",
    "# Model\n",
    "class Passenger:\n",
    "    def __init__(self, id:int, name:str, survived:int, sex:str, age:float)->None:\n",
    "        self.id = id\n",
    "        self.survived = survived\n",
    "        self.sex = sex\n",
    "        self.age = age\n",
    "        self.name = name\n",
    "\n",
    "c = Counter()"
   ]
  },
  {
   "cell_type": "code",
   "execution_count": 7,
   "id": "34a53049-22a0-437f-a869-0af40b009c50",
   "metadata": {},
   "outputs": [],
   "source": [
    "# Code métier \n",
    "def read_titanic(file : TextIO, age:float)->Generator[Dict[str, Union[str, int]], None, None]:\n",
    "    count = 0\n",
    "    with open(file, 'r') as csv_file:\n",
    "        spamreader = csv.reader(csv_file, delimiter=',',quotechar='|')\n",
    "        for row in spamreader:\n",
    "            if row[1] == '1' \\\n",
    "            and 'female' in row \\\n",
    "            and row[6] and float( row[6] ) < age :\n",
    "                yield {\n",
    "                    'id' : row[0], \n",
    "                    'name' : row[3], \n",
    "                    'age' : row[6],\n",
    "                    'survived': 1, \n",
    "                    'sex' : 'F'\n",
    "                }\n",
    "                count += 1\n",
    "    c.count = count\n"
   ]
  },
  {
   "cell_type": "code",
   "execution_count": 8,
   "id": "79f706e7-ff09-4827-a061-f0d799b26733",
   "metadata": {},
   "outputs": [
    {
     "name": "stdout",
     "output_type": "stream",
     "text": [
      "Nombre total de personne répondant aux critères 160\n"
     ]
    }
   ],
   "source": [
    "file = '../Data/titanic.csv'\n",
    "g = read_titanic(file, age = 41)\n",
    "\n",
    "try:\n",
    "    while True:\n",
    "        res = next(g)\n",
    "        # ORM TODO\n",
    "        p = Passenger(**res) \n",
    "        #print(p.name, p.age)\n",
    "\n",
    "except StopIteration as e:\n",
    "    print(f\"Nombre total de \\\n",
    "personne répondant aux critères {c.count}\")"
   ]
  },
  {
   "cell_type": "code",
   "execution_count": null,
   "id": "e611a79f-7902-4364-801d-3554103ee64e",
   "metadata": {},
   "outputs": [],
   "source": []
  },
  {
   "cell_type": "code",
   "execution_count": null,
   "id": "5d9521ab-1e42-4537-ba6f-29e6ccbb96d7",
   "metadata": {},
   "outputs": [],
   "source": []
  }
 ],
 "metadata": {
  "kernelspec": {
   "display_name": "Python 3 (ipykernel)",
   "language": "python",
   "name": "python3"
  },
  "language_info": {
   "codemirror_mode": {
    "name": "ipython",
    "version": 3
   },
   "file_extension": ".py",
   "mimetype": "text/x-python",
   "name": "python",
   "nbconvert_exporter": "python",
   "pygments_lexer": "ipython3",
   "version": "3.11.9"
  }
 },
 "nbformat": 4,
 "nbformat_minor": 5
}
