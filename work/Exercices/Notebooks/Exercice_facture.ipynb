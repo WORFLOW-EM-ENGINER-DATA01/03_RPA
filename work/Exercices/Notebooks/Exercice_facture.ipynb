{
 "cells": [
  {
   "cell_type": "code",
   "execution_count": 9,
   "id": "fd4da958-f55c-4b54-8f8a-29316598715a",
   "metadata": {},
   "outputs": [],
   "source": [
    "import re\n",
    "from pypdf import PdfReader"
   ]
  },
  {
   "cell_type": "code",
   "execution_count": 10,
   "id": "e66c848e-c1ae-40e4-938e-c4f5fc4c6aef",
   "metadata": {},
   "outputs": [],
   "source": [
    "class Facture:\n",
    "    def __init__(self, numero, date, ht, ttc):\n",
    "        self.numero = numero\n",
    "        self.date = date\n",
    "        self.ht = ht\n",
    "        self.ttc = ttc\n"
   ]
  },
  {
   "cell_type": "code",
   "execution_count": 14,
   "id": "0bcbb498-3321-4a56-82e1-327a7ad1feac",
   "metadata": {},
   "outputs": [],
   "source": [
    "def extract_text_from_pdf(pdf):\n",
    "    with open(pdf, 'rb') as f:\n",
    "        r = PdfReader(f)\n",
    "        text = ''\n",
    "        for num in range(r.get_num_pages()):\n",
    "            page = r.get_page(num)\n",
    "            text += page.extract_text()\n",
    "\n",
    "    return text"
   ]
  },
  {
   "cell_type": "code",
   "execution_count": 20,
   "id": "177b6837-1095-4404-a5a1-80e99d5ebb0a",
   "metadata": {},
   "outputs": [],
   "source": [
    "def parse(text):\n",
    "    num_pattern = r'Facture\\s*n°(\\d+)'\n",
    "    date_pattern = r'Date\\s*:\\s*(\\d{2}/\\d{2}/\\d{4})'\n",
    "    ht_pattern = r'Montant\\s*Total\\s*HT\\s*:\\s*(\\d+\\.\\d{2})'\n",
    "    ttc_pattern = r'Montant\\s*Total\\s*TTC\\s*:\\s*(\\d+\\.\\d{2})'\n",
    "\n",
    "    numero = re.search(num_pattern, text).group(1)\n",
    "    date = re.search(date_pattern, text).group(1)\n",
    "    ht = float(re.search(ht_pattern, text).group(1))\n",
    "    ttc = float(re.search(ttc_pattern, text).group(1))\n",
    "\n",
    "    return Facture(numero = numero, date = date, ht=ht, ttc =ttc)\n",
    "    "
   ]
  },
  {
   "cell_type": "code",
   "execution_count": 22,
   "id": "3ae62268-1c7e-49bd-852a-9ac6c6b93caf",
   "metadata": {},
   "outputs": [],
   "source": [
    "path = '../Data/Facture_001.pdf'\n",
    "text = extract_text_from_pdf(path)\n",
    "\n",
    "facture = parse(text)"
   ]
  },
  {
   "cell_type": "code",
   "execution_count": 24,
   "id": "0ba13d69-f07e-40fc-9d5f-3042b11511d9",
   "metadata": {},
   "outputs": [
    {
     "name": "stdout",
     "output_type": "stream",
     "text": [
      "{'numero': '12345', 'date': '21/05/2024', 'ht': 250.0, 'ttc': 300.0}\n"
     ]
    }
   ],
   "source": [
    "print(facture.__dict__)"
   ]
  },
  {
   "cell_type": "code",
   "execution_count": null,
   "id": "07699b54-9439-4dbd-a33e-f2676f03c1ef",
   "metadata": {},
   "outputs": [],
   "source": []
  }
 ],
 "metadata": {
  "kernelspec": {
   "display_name": "Python 3 (ipykernel)",
   "language": "python",
   "name": "python3"
  },
  "language_info": {
   "codemirror_mode": {
    "name": "ipython",
    "version": 3
   },
   "file_extension": ".py",
   "mimetype": "text/x-python",
   "name": "python",
   "nbconvert_exporter": "python",
   "pygments_lexer": "ipython3",
   "version": "3.11.9"
  }
 },
 "nbformat": 4,
 "nbformat_minor": 5
}
