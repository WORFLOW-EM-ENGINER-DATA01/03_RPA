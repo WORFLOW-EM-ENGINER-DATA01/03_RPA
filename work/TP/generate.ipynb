{
 "cells": [
  {
   "cell_type": "code",
   "execution_count": 8,
   "id": "85cdaffe-56fd-4a02-b71d-c8375fab131b",
   "metadata": {},
   "outputs": [],
   "source": [
    "import json\n",
    "import random\n",
    "from faker import Faker\n",
    "from datetime import datetime, timedelta\n"
   ]
  },
  {
   "cell_type": "code",
   "execution_count": 16,
   "id": "8565d84b-7eaa-404e-b73e-766acc0764aa",
   "metadata": {},
   "outputs": [],
   "source": [
    "from datetime import datetime, timedelta\n",
    "import random\n",
    "from faker import Faker\n",
    "\n",
    "fake = Faker('fr_FR')\n",
    "\n",
    "ecoles = [\"Le Pont\", \"L'Ecole Informatique\", \"ESIT\", \"EIT\"]\n",
    "delai_reglement = [\"30 jours\", \"45 jours\", \"60 jours\"]\n",
    "\n",
    "# Liste pour stocker les factures générées\n",
    "factures = []\n",
    "\n",
    "# Fonction pour générer une facture aléatoire\n",
    "def generer_facture(annee, mois):\n",
    "    numero_facture = len(factures) + 1  # Numéro de facture incrémenté\n",
    "    client = random.choice(ecoles)\n",
    "    montant_ht = round(random.uniform(800, 2000), 2)  # Montant HT aléatoire\n",
    "    nb_jours = random.randint(1, 10)  # Nombre de jours aléatoire\n",
    "    nb_heures = (nb_jours + 1) * 7  # Calcul du nombre d'heures en incluant le dernier jour\n",
    "    date_debut = datetime(annee, mois, random.randint(1, 28))  # Date de début aléatoire\n",
    "    date_fin = date_debut + timedelta(days=nb_jours)  # Date de fin en fonction du nombre de jours\n",
    "    formateur = f\"{fake.first_name()} {fake.last_name()}\"  # Formateur aléatoire\n",
    "    payer_a = f\"Délai de règlement : {random.choice(delai_reglement)}\"  # Délai de règlement aléatoire\n",
    "\n",
    "    return {\n",
    "        \"Facture n°\": str(numero_facture).zfill(4),\n",
    "        \"Client\": client,\n",
    "        \"Montant HT\": f\"{montant_ht} euro\",\n",
    "        \"Nombres d'heures\": str(nb_heures),\n",
    "        \"Nombre de jours\": nb_jours,\n",
    "        \"Dates d'interventions\": {\n",
    "            \"Date début\": date_debut.strftime('%Y-%m-%d'),\n",
    "            \"Date fin\": date_fin.strftime('%Y-%m-%d')\n",
    "        },\n",
    "        \"Formateur\": formateur,\n",
    "        \"Payer à\": payer_a\n",
    "    }\n",
    "\n",
    "# Génération des factures pour chaque année et mois jusqu'à mai\n",
    "for annee in range(2022, 2025):\n",
    "    for mois in range(1, 6):\n",
    "        # Vérification si la date est dans la plage spécifiée (jusqu'à mai)\n",
    "        if datetime(annee, mois, 1) <= datetime.now() < datetime(2024, 6, 1):\n",
    "            facture = generer_facture(annee, mois)\n",
    "            factures.append(facture)\n",
    "\n",
    "\n"
   ]
  },
  {
   "cell_type": "code",
   "execution_count": 17,
   "id": "cf6804b4-0878-404f-83f8-7ac8406a1f4f",
   "metadata": {},
   "outputs": [
    {
     "name": "stdout",
     "output_type": "stream",
     "text": [
      "Fichier factures.json généré avec succès.\n"
     ]
    }
   ],
   "source": [
    "with open('factures.json', 'w') as f:\n",
    "    json.dump(factures, f, ensure_ascii=False, indent=4)\n",
    "\n",
    "print(\"Fichier factures.json généré avec succès.\")"
   ]
  },
  {
   "cell_type": "code",
   "execution_count": null,
   "id": "ad75e0c6-0a22-4246-aec6-cf25566a4fa7",
   "metadata": {},
   "outputs": [],
   "source": []
  }
 ],
 "metadata": {
  "kernelspec": {
   "display_name": "Python 3 (ipykernel)",
   "language": "python",
   "name": "python3"
  },
  "language_info": {
   "codemirror_mode": {
    "name": "ipython",
    "version": 3
   },
   "file_extension": ".py",
   "mimetype": "text/x-python",
   "name": "python",
   "nbconvert_exporter": "python",
   "pygments_lexer": "ipython3",
   "version": "3.11.9"
  }
 },
 "nbformat": 4,
 "nbformat_minor": 5
}
